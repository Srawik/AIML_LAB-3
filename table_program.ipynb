{
 "cells": [
  {
   "cell_type": "code",
   "execution_count": 1,
   "metadata": {},
   "outputs": [
    {
     "name": "stdout",
     "output_type": "stream",
     "text": [
      "95 X 1 = 95\n",
      "95 X 2 = 190\n",
      "95 X 3 = 285\n",
      "95 X 4 = 380\n",
      "95 X 5 = 475\n",
      "95 X 6 = 570\n",
      "95 X 7 = 665\n",
      "95 X 8 = 760\n",
      "95 X 9 = 855\n",
      "95 X 10 = 950\n"
     ]
    }
   ],
   "source": [
    "n=95\n",
    "for i in range(1,11):\n",
    "      print(n,\"X\",i,\"=\",n*i)"
   ]
  }
 ],
 "metadata": {
  "kernelspec": {
   "display_name": "Python 3 (ipykernel)",
   "language": "python",
   "name": "python3"
  }
 },
 "nbformat": 4,
 "nbformat_minor": 2
}
