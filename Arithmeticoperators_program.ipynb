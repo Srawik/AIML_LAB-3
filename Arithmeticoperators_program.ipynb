{
 "cells": [
  {
   "cell_type": "code",
   "execution_count": 1,
   "metadata": {},
   "outputs": [
    {
     "name": "stdout",
     "output_type": "stream",
     "text": [
      "Addition: 13\n",
      "Subtraction: -3\n",
      "Multiplication: 40\n",
      "Division: 0.625\n",
      "Modulo: 5\n",
      "power: 390625\n",
      "Floor Division: 0\n"
     ]
    }
   ],
   "source": [
    "a=5\n",
    "b=8\n",
    "print(\"Addition:\",a+b) \n",
    "print(\"Subtraction:\",a-b)\n",
    "print(\"Multiplication:\",a*b)\n",
    "print(\"Division:\",a/b)\n",
    "print(\"Modulo:\",a%b)\n",
    "print(\"power:\",a**b)\n",
    "print(\"Floor Division:\",a//b)"
   ]
  }
 ],
 "metadata": {
  "kernelspec": {
   "display_name": "Python 3 (ipykernel)",
   "language": "python",
   "name": "python3"
  }
 },
 "nbformat": 4,
 "nbformat_minor": 2
}
